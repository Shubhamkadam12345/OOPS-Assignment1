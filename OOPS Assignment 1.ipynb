{
 "cells": [
  {
   "cell_type": "code",
   "execution_count": null,
   "id": "d2b22388-78c6-4c14-a0e0-9b4e93f149a1",
   "metadata": {},
   "outputs": [],
   "source": [
    "Q.1"
   ]
  },
  {
   "cell_type": "code",
   "execution_count": null,
   "id": "9627980a-3f22-438e-9ae6-ea3a40d211b2",
   "metadata": {},
   "outputs": [],
   "source": [
    "# include < iosteam>\n",
    "using name space std;\n",
    "class Complex\n",
    "       private\n",
    "    int a;\n",
    "    int b;\n",
    "public\n",
    "      Complex { int a, int b }"
   ]
  },
  {
   "cell_type": "code",
   "execution_count": null,
   "id": "d50294dc-8c9c-46c3-a246-33e12c9dc51f",
   "metadata": {},
   "outputs": [],
   "source": [
    "this= > a=a;\n",
    "this= > b=b"
   ]
  },
  {
   "cell_type": "code",
   "execution_count": null,
   "id": "ddb27893-e422-4b34-8210-c808346a5d4c",
   "metadata": {},
   "outputs": [],
   "source": [
    "Q.2"
   ]
  },
  {
   "cell_type": "code",
   "execution_count": null,
   "id": "f2f44055-ddc5-4f58-bbed-d4dc5c9b8c80",
   "metadata": {},
   "outputs": [],
   "source": [
    "1) Abstraction\n",
    "2) Encapsulation\n",
    "3) Inheritance\n",
    "4) Polymorphism"
   ]
  },
  {
   "cell_type": "code",
   "execution_count": null,
   "id": "1791d3d1-180d-4f46-a9fe-c88c9b5cbebf",
   "metadata": {},
   "outputs": [],
   "source": [
    "Q.3"
   ]
  },
  {
   "cell_type": "code",
   "execution_count": null,
   "id": "1df87e85-5e9b-4895-b06c-26a63053bb7c",
   "metadata": {},
   "outputs": [],
   "source": [
    "Alex \n",
    "18723\n",
    "a\n",
    "student information\n",
    "Name: Alex\n",
    "Roll no: 18723\n",
    "section: A"
   ]
  },
  {
   "cell_type": "code",
   "execution_count": null,
   "id": "c3332385-d609-4a3a-b0f8-e34481ad3f2c",
   "metadata": {},
   "outputs": [],
   "source": [
    "Q.4"
   ]
  },
  {
   "cell_type": "code",
   "execution_count": null,
   "id": "e54ab3b0-ba09-47af-8de4-1c307594785d",
   "metadata": {},
   "outputs": [],
   "source": [
    "Used to represent the instance of the class which is often used oriented programming\n",
    "It works as a reference to the object python used the self prameters to refer to instant\n",
    "attributes methods of the class"
   ]
  },
  {
   "cell_type": "code",
   "execution_count": null,
   "id": "1b913fd7-29b0-431b-83c5-83e4a321d21f",
   "metadata": {},
   "outputs": [],
   "source": [
    "Q."
   ]
  }
 ],
 "metadata": {
  "kernelspec": {
   "display_name": "Python 3 (ipykernel)",
   "language": "python",
   "name": "python3"
  },
  "language_info": {
   "codemirror_mode": {
    "name": "ipython",
    "version": 3
   },
   "file_extension": ".py",
   "mimetype": "text/x-python",
   "name": "python",
   "nbconvert_exporter": "python",
   "pygments_lexer": "ipython3",
   "version": "3.10.8"
  }
 },
 "nbformat": 4,
 "nbformat_minor": 5
}
